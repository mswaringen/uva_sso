{
  "nbformat": 4,
  "nbformat_minor": 0,
  "metadata": {
    "colab": {
      "name": "SSO_lecture_10.ipynb",
      "provenance": [],
      "collapsed_sections": [],
      "authorship_tag": "ABX9TyNvcoUkbMVp2hUtBxw9VWZq",
      "include_colab_link": true
    },
    "kernelspec": {
      "name": "python3",
      "display_name": "Python 3"
    }
  },
  "cells": [
    {
      "cell_type": "markdown",
      "metadata": {
        "id": "view-in-github",
        "colab_type": "text"
      },
      "source": [
        "<a href=\"https://colab.research.google.com/github/mswaringen/uva_sso/blob/master/SSO_lecture_10.ipynb\" target=\"_parent\"><img src=\"https://colab.research.google.com/assets/colab-badge.svg\" alt=\"Open In Colab\"/></a>"
      ]
    },
    {
      "cell_type": "code",
      "metadata": {
        "id": "xYiqiodnrXEP",
        "outputId": "1d775fe8-7e4d-439d-e76a-3a727c519e93",
        "colab": {
          "base_uri": "https://localhost:8080/"
        }
      },
      "source": [
        "!pip install pulp"
      ],
      "execution_count": 1,
      "outputs": [
        {
          "output_type": "stream",
          "text": [
            "Requirement already satisfied: pulp in /usr/local/lib/python3.6/dist-packages (2.3)\n",
            "Requirement already satisfied: amply>=0.1.2 in /usr/local/lib/python3.6/dist-packages (from pulp) (0.1.4)\n",
            "Requirement already satisfied: pyparsing in /usr/local/lib/python3.6/dist-packages (from amply>=0.1.2->pulp) (2.4.7)\n",
            "Requirement already satisfied: docutils>=0.3 in /usr/local/lib/python3.6/dist-packages (from amply>=0.1.2->pulp) (0.16)\n"
          ],
          "name": "stdout"
        }
      ]
    },
    {
      "cell_type": "code",
      "metadata": {
        "id": "4zuXcWaLsSoK"
      },
      "source": [
        "import pulp"
      ],
      "execution_count": 2,
      "outputs": []
    },
    {
      "cell_type": "code",
      "metadata": {
        "id": "S_Or96kRsV-V"
      },
      "source": [
        "# init linear optimization problem object\n",
        "LO_problem = pulp.LpProblem(\"knapsack_ILO\", pulp.LpMaximize)"
      ],
      "execution_count": 3,
      "outputs": []
    },
    {
      "cell_type": "code",
      "metadata": {
        "id": "_p96s_5LsZnV"
      },
      "source": [
        "# data (parameters)\n",
        "sizes = [5,10,2,3,5]\n",
        "rewards = [5,8,3,2,7]\n",
        "weight = [4,1,2,3,4]\n",
        "size_cap = 20\n",
        "weight_cap = 10\n",
        "n = len(sizes)  # number of items"
      ],
      "execution_count": 4,
      "outputs": []
    },
    {
      "cell_type": "code",
      "metadata": {
        "id": "W-87eHn8scCL"
      },
      "source": [
        "# modelling\n",
        "\n",
        "# decision variables\n",
        "x = [pulp.LpVariable(f'x_{i}', cat='Binary') for i in range(n)]"
      ],
      "execution_count": 5,
      "outputs": []
    },
    {
      "cell_type": "code",
      "metadata": {
        "id": "h9sx9SFDseIG"
      },
      "source": [
        "# objective function\n",
        "LO_problem += pulp.lpDot(x, rewards), \"total_reward\""
      ],
      "execution_count": 6,
      "outputs": []
    },
    {
      "cell_type": "code",
      "metadata": {
        "id": "zyW0pHfSsgIj"
      },
      "source": [
        "# constraints\n",
        "LO_problem += pulp.lpDot(x, sizes) <= size_cap, \"size_capacity\"\n",
        "LO_problem += pulp.lpDot(x, weight) <= weight_cap, \"weight_capacity\""
      ],
      "execution_count": 7,
      "outputs": []
    },
    {
      "cell_type": "code",
      "metadata": {
        "id": "gei78G2RsiTy",
        "outputId": "a60c5d4f-e472-4a77-f4e2-5f67eab8b038",
        "colab": {
          "base_uri": "https://localhost:8080/"
        }
      },
      "source": [
        "print(LO_problem)\n",
        "LO_problem.solve()\n",
        "print(\"Status:\", pulp.LpStatus[LO_problem.status])"
      ],
      "execution_count": 8,
      "outputs": [
        {
          "output_type": "stream",
          "text": [
            "knapsack_ILO:\n",
            "MAXIMIZE\n",
            "5*x_0 + 8*x_1 + 3*x_2 + 2*x_3 + 7*x_4 + 0\n",
            "SUBJECT TO\n",
            "size_capacity: 5 x_0 + 10 x_1 + 2 x_2 + 3 x_3 + 5 x_4 <= 20\n",
            "\n",
            "weight_capacity: 4 x_0 + x_1 + 2 x_2 + 3 x_3 + 4 x_4 <= 10\n",
            "\n",
            "VARIABLES\n",
            "0 <= x_0 <= 1 Integer\n",
            "0 <= x_1 <= 1 Integer\n",
            "0 <= x_2 <= 1 Integer\n",
            "0 <= x_3 <= 1 Integer\n",
            "0 <= x_4 <= 1 Integer\n",
            "\n",
            "Status: Optimal\n"
          ],
          "name": "stdout"
        }
      ]
    },
    {
      "cell_type": "code",
      "metadata": {
        "id": "2iUyiM1fskCm",
        "outputId": "c9a07335-bde9-4297-fc88-14e6e6ba2e33",
        "colab": {
          "base_uri": "https://localhost:8080/"
        }
      },
      "source": [
        "# each of the variables is printed with its resolved optimum value\n",
        "for v in LO_problem.variables():\n",
        "    print(v.name, \"=\", v.varValue)"
      ],
      "execution_count": 9,
      "outputs": [
        {
          "output_type": "stream",
          "text": [
            "x_0 = 0.0\n",
            "x_1 = 1.0\n",
            "x_2 = 1.0\n",
            "x_3 = 1.0\n",
            "x_4 = 1.0\n"
          ],
          "name": "stdout"
        }
      ]
    },
    {
      "cell_type": "code",
      "metadata": {
        "id": "w-RCZLJQslfi",
        "outputId": "335585e9-0f24-4949-87ec-d939514f137a",
        "colab": {
          "base_uri": "https://localhost:8080/"
        }
      },
      "source": [
        "# the optimised objective function value is printed to the screen\n",
        "print(\"Total profit = \", LO_problem.objective.value())"
      ],
      "execution_count": 10,
      "outputs": [
        {
          "output_type": "stream",
          "text": [
            "Total profit =  20.0\n"
          ],
          "name": "stdout"
        }
      ]
    }
  ]
}