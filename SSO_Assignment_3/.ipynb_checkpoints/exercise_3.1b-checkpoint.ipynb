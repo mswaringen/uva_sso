{
 "cells": [
  {
   "cell_type": "markdown",
   "metadata": {},
   "source": [
    "## Exercise 3.1b: Sieve Constraint"
   ]
  },
  {
   "cell_type": "code",
   "execution_count": 1,
   "metadata": {},
   "outputs": [],
   "source": [
    "import pulp"
   ]
  },
  {
   "cell_type": "code",
   "execution_count": 2,
   "metadata": {},
   "outputs": [],
   "source": [
    "jobs = ['Job 1', 'Job 2', 'Job 3', 'Job 4', 'Job 5', 'Job 6', 'Job 7', 'Job 8', 'Job 9', 'Job 10']\n",
    "s = [4,5,3,5,7,1,0,3,2,10]  # durations of the jobs\n",
    "r = [3,4,7,11,10,0,0,10,0,15]\n",
    "d = [11,12,20,25,20,10,30,30,10,20]\n",
    "c = [1,1,1,1,1,1,1,1,1,1]\n",
    "M = 10000\n",
    "n = len(jobs)  # number of jobs\n",
    "sieve_type = [1,2,1,1,2,1,2,2,2,1]"
   ]
  },
  {
   "cell_type": "code",
   "execution_count": 3,
   "metadata": {},
   "outputs": [],
   "source": [
    "ILO_problem = pulp.LpProblem(name=\"ILO_problem\", sense=pulp.LpMinimize)"
   ]
  },
  {
   "cell_type": "code",
   "execution_count": 4,
   "metadata": {},
   "outputs": [],
   "source": [
    "x = [pulp.LpVariable(name=f'x_{i}', lowBound=0, cat='Continuous') for i in range(n)]"
   ]
  },
  {
   "cell_type": "code",
   "execution_count": 5,
   "metadata": {},
   "outputs": [],
   "source": [
    "z = [pulp.LpVariable(name=f'z_{i}', lowBound=0, cat='Continuous') for i in range(n)]"
   ]
  },
  {
   "cell_type": "code",
   "execution_count": 6,
   "metadata": {},
   "outputs": [],
   "source": [
    "y = [[pulp.LpVariable(name=f'y_{i},{j}', cat='Binary') for j in range(n)]\n",
    "     for i in range(n)] "
   ]
  },
  {
   "cell_type": "code",
   "execution_count": 7,
   "metadata": {},
   "outputs": [],
   "source": [
    "ILO_problem += sum([c[i] * z[i] for i in range(n)]), 'sum_prod_cost_tardiness'"
   ]
  },
  {
   "cell_type": "code",
   "execution_count": 8,
   "metadata": {},
   "outputs": [],
   "source": [
    "# tardiness\n",
    "for i in range(n):\n",
    "    ILO_problem += z[i] >= x[i] + s[i] - d[i]\n",
    "    ILO_problem += z[i] >= 0"
   ]
  },
  {
   "cell_type": "code",
   "execution_count": 9,
   "metadata": {},
   "outputs": [],
   "source": [
    "# release time\n",
    "for i in range(n):\n",
    "    ILO_problem += x[i] >= r[i]"
   ]
  },
  {
   "cell_type": "code",
   "execution_count": 10,
   "metadata": {},
   "outputs": [],
   "source": [
    "# order\n",
    "for i in range(n):\n",
    "    for j in range(i+1, n):\n",
    "        if i == j:\n",
    "            continue\n",
    "        ILO_problem += y[i][j] + y[j][i] == 1"
   ]
  },
  {
   "cell_type": "code",
   "execution_count": 12,
   "metadata": {},
   "outputs": [],
   "source": [
    "# overlap\n",
    "for i in range(n):\n",
    "    for j in range(n):\n",
    "        sieve_delay = 0\n",
    "        if i == j:\n",
    "            continue\n",
    "        if sieve_type[i] != sieve_type[i-1]:\n",
    "            sieve_delay = 1\n",
    "        ILO_problem += x[i] + s[i] + sieve_delay <= x[j] + M*(1-y[i][j])"
   ]
  },
  {
   "cell_type": "code",
   "execution_count": 13,
   "metadata": {},
   "outputs": [
    {
     "name": "stdout",
     "output_type": "stream",
     "text": [
      "Optimization status: Optimal\n"
     ]
    }
   ],
   "source": [
    "ILO_problem.solve()\n",
    "print(\"Optimization status:\", pulp.LpStatus[ILO_problem.status])"
   ]
  },
  {
   "cell_type": "code",
   "execution_count": 14,
   "metadata": {},
   "outputs": [
    {
     "name": "stdout",
     "output_type": "stream",
     "text": [
      "The optimal starting times are  [4.0, 8.0, 14.0, 18.0, 27.0, 0.0, 23.0, 24.0, 2.0, 35.0]\n",
      "with objective value of 40.0\n"
     ]
    }
   ],
   "source": [
    "print('The optimal starting times are ', [x[i].value() for i in range(n)])\n",
    "print('with objective value of', ILO_problem.objective.value())"
   ]
  },
  {
   "cell_type": "code",
   "execution_count": 15,
   "metadata": {},
   "outputs": [
    {
     "name": "stdout",
     "output_type": "stream",
     "text": [
      "x_0 = 4.0\n",
      "x_1 = 8.0\n",
      "x_2 = 14.0\n",
      "x_3 = 18.0\n",
      "x_4 = 27.0\n",
      "x_5 = 0.0\n",
      "x_6 = 23.0\n",
      "x_7 = 24.0\n",
      "x_8 = 2.0\n",
      "x_9 = 35.0\n",
      "y_0,1 = 1.0\n",
      "y_0,2 = 1.0\n",
      "y_0,3 = 1.0\n",
      "y_0,4 = 1.0\n",
      "y_0,5 = 0.0\n",
      "y_0,6 = 1.0\n",
      "y_0,7 = 1.0\n",
      "y_0,8 = 0.0\n",
      "y_0,9 = 1.0\n",
      "y_1,0 = 0.0\n",
      "y_1,2 = 1.0\n",
      "y_1,3 = 1.0\n",
      "y_1,4 = 1.0\n",
      "y_1,5 = 0.0\n",
      "y_1,6 = 1.0\n",
      "y_1,7 = 1.0\n",
      "y_1,8 = 0.0\n",
      "y_1,9 = 1.0\n",
      "y_2,0 = 0.0\n",
      "y_2,1 = 0.0\n",
      "y_2,3 = 1.0\n",
      "y_2,4 = 1.0\n",
      "y_2,5 = 0.0\n",
      "y_2,6 = 1.0\n",
      "y_2,7 = 1.0\n",
      "y_2,8 = 0.0\n",
      "y_2,9 = 1.0\n",
      "y_3,0 = 0.0\n",
      "y_3,1 = 0.0\n",
      "y_3,2 = 0.0\n",
      "y_3,4 = 1.0\n",
      "y_3,5 = 0.0\n",
      "y_3,6 = 1.0\n",
      "y_3,7 = 1.0\n",
      "y_3,8 = 0.0\n",
      "y_3,9 = 1.0\n",
      "y_4,0 = 0.0\n",
      "y_4,1 = 0.0\n",
      "y_4,2 = 0.0\n",
      "y_4,3 = 0.0\n",
      "y_4,5 = 0.0\n",
      "y_4,6 = 0.0\n",
      "y_4,7 = 0.0\n",
      "y_4,8 = 0.0\n",
      "y_4,9 = 1.0\n",
      "y_5,0 = 1.0\n",
      "y_5,1 = 1.0\n",
      "y_5,2 = 1.0\n",
      "y_5,3 = 1.0\n",
      "y_5,4 = 1.0\n",
      "y_5,6 = 1.0\n",
      "y_5,7 = 1.0\n",
      "y_5,8 = 1.0\n",
      "y_5,9 = 1.0\n",
      "y_6,0 = 0.0\n",
      "y_6,1 = 0.0\n",
      "y_6,2 = 0.0\n",
      "y_6,3 = 0.0\n",
      "y_6,4 = 1.0\n",
      "y_6,5 = 0.0\n",
      "y_6,7 = 1.0\n",
      "y_6,8 = 0.0\n",
      "y_6,9 = 1.0\n",
      "y_7,0 = 0.0\n",
      "y_7,1 = 0.0\n",
      "y_7,2 = 0.0\n",
      "y_7,3 = 0.0\n",
      "y_7,4 = 1.0\n",
      "y_7,5 = 0.0\n",
      "y_7,6 = 0.0\n",
      "y_7,8 = 0.0\n",
      "y_7,9 = 1.0\n",
      "y_8,0 = 1.0\n",
      "y_8,1 = 1.0\n",
      "y_8,2 = 1.0\n",
      "y_8,3 = 1.0\n",
      "y_8,4 = 1.0\n",
      "y_8,5 = 0.0\n",
      "y_8,6 = 1.0\n",
      "y_8,7 = 1.0\n",
      "y_8,9 = 1.0\n",
      "y_9,0 = 0.0\n",
      "y_9,1 = 0.0\n",
      "y_9,2 = 0.0\n",
      "y_9,3 = 0.0\n",
      "y_9,4 = 0.0\n",
      "y_9,5 = 0.0\n",
      "y_9,6 = 0.0\n",
      "y_9,7 = 0.0\n",
      "y_9,8 = 0.0\n",
      "z_0 = 0.0\n",
      "z_1 = 1.0\n",
      "z_2 = 0.0\n",
      "z_3 = 0.0\n",
      "z_4 = 14.0\n",
      "z_5 = 0.0\n",
      "z_6 = 0.0\n",
      "z_7 = 0.0\n",
      "z_8 = 0.0\n",
      "z_9 = 25.0\n"
     ]
    }
   ],
   "source": [
    "# each of the variables is printed with it's resolved optimum value\n",
    "for v in ILO_problem.variables():\n",
    "    print(v.name, \"=\", v.varValue)"
   ]
  }
 ],
 "metadata": {
  "kernelspec": {
   "display_name": "Python 3",
   "language": "python",
   "name": "python3"
  },
  "language_info": {
   "codemirror_mode": {
    "name": "ipython",
    "version": 3
   },
   "file_extension": ".py",
   "mimetype": "text/x-python",
   "name": "python",
   "nbconvert_exporter": "python",
   "pygments_lexer": "ipython3",
   "version": "3.7.9"
  }
 },
 "nbformat": 4,
 "nbformat_minor": 4
}
